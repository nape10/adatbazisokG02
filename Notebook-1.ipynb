{
    "metadata": {
        "kernelspec": {
            "name": "SQL",
            "display_name": "SQL",
            "language": "sql"
        },
        "language_info": {
            "name": "sql",
            "version": ""
        }
    },
    "nbformat_minor": 2,
    "nbformat": 4,
    "cells": [
        {
            "cell_type": "code",
            "source": [
                "-- feladat 1\r\n",
                "SELECT SZOBA_FK,\r\n",
                "SUM([FELNOTT_SZAM]-[GYERMEK_SZAM]) AS 'Foglalás összeg'\r\n",
                "FROM Foglalas\r\n",
                "GROUP BY SZOBA_FK\r\n",
                "ORDER BY FOGLALAS_PK ASC\r\n",
                "WHERE SUM([FELNOTT_SZAM]-[GYERMEK_SZAM]) > 2\r\n",
                ""
            ],
            "metadata": {
                "azdata_cell_guid": "42177abd-d042-4096-87aa-185a7162db67",
                "language": "sql",
                "tags": []
            },
            "outputs": [
                {
                    "output_type": "error",
                    "evalue": "Msg 8127, Level 16, State 1, Line 6\r\nColumn \"Foglalas.FOGLALAS_PK\" is invalid in the ORDER BY clause because it is not contained in either an aggregate function or the GROUP BY clause.",
                    "ename": "",
                    "traceback": []
                },
                {
                    "output_type": "display_data",
                    "data": {
                        "text/html": "Total execution time: 00:00:00.002"
                    },
                    "metadata": {}
                }
            ],
            "execution_count": 8
        },
        {
            "cell_type": "code",
            "source": [
                "-- feladat 2\r\n",
                "SELECT \r\n",
                "Case WHEN YEAR(Vendeg.SZUL_DAT) >= 1985 THEN 'Fiatal'\r\n",
                "     WHEN YEAR(Vendeg.SZUL_DAT) < 1970 THEN 'Idős'\r\n",
                "     ELSE 'Középkorú'\r\n",
                "FROM Vendeg\r\n",
                "JOIN Foglalas ON Vendeg.USERNEV = Foglalas.UGYFEL_FK\r\n",
                "WHERE ([FELNOTT_SZAM] + [GYERMEK_SZAM] > 2)"
            ],
            "metadata": {
                "azdata_cell_guid": "6686f41f-19ee-4f30-bd32-9f23679509bc",
                "language": "sql"
            },
            "outputs": [],
            "execution_count": null
        }
    ]
}