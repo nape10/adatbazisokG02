{
    "metadata": {
        "kernelspec": {
            "name": "SQL",
            "display_name": "SQL",
            "language": "sql"
        },
        "language_info": {
            "name": "sql",
            "version": ""
        }
    },
    "nbformat_minor": 2,
    "nbformat": 4,
    "cells": [
        {
            "cell_type": "code",
            "source": [
                "SELECT \r\n",
                "    SZAMLA_CIM AS 'címek', \r\n",
                "    COUNT(*) row_count \r\n",
                "from Rendeles\r\n",
                "WHERE SZAMLA_CIM IS NOT null\r\n",
                "GROUP BY SZAMLA_CIM\r\n",
                "ORDER BY SZAMLA_CIM"
            ],
            "metadata": {
                "azdata_cell_guid": "a84b17b0-1085-4b70-bcf6-0b2e0b1913ca",
                "language": "sql"
            },
            "outputs": [
                {
                    "output_type": "display_data",
                    "data": {
                        "text/html": "(273 rows affected)"
                    },
                    "metadata": {}
                },
                {
                    "output_type": "display_data",
                    "data": {
                        "text/html": "Total execution time: 00:00:02.055"
                    },
                    "metadata": {}
                },
                {
                    "output_type": "execute_result",
                    "metadata": {},
                    "execution_count": 27,
                    "data": {
                        "application/vnd.dataresource+json": {
                            "schema": {
                                "fields": [
                                    {
                                        "name": "címek"
                                    },
                                    {
                                        "name": "row_count"
                                    }
                                ]
                            },
                            "data": [
                                {
                                    "címek": "1011 Budapest, Kiss u. 32.",
                                    "row_count": "3"
                                },
                                {
                                    "címek": "1035 Budapest, Fő u. 2.",
                                    "row_count": "2"
                                },
                                {
                                    "címek": "1035 Budapest, Kiss u. 32.",
                                    "row_count": "3"
                                },
                                {
                                    "címek": "1035 Budapest, Nagy u.14.",
                                    "row_count": "1"
                                },
                                {
                                    "címek": "1047 Budapest, Fő u. 2.",
                                    "row_count": "1"
                                },
                                {
                                    "címek": "1047 Budapest, Kiss u. 32.",
                                    "row_count": "1"
                                },
                                {
                                    "címek": "1047 Budapest, Nagy u.14.",
                                    "row_count": "1"
                                },
                                {
                                    "címek": "1067 Budapest, Fő u. 2.",
                                    "row_count": "2"
                                },
                                {
                                    "címek": "1067 Budapest, Kiss u. 32.",
                                    "row_count": "1"
                                },
                                {
                                    "címek": "1067 Budapest, Nagy u.14.",
                                    "row_count": "1"
                                },
                                {
                                    "címek": "1072 Budapest, Fő u. 2.",
                                    "row_count": "2"
                                },
                                {
                                    "címek": "1077 Budapest, Fő u. 2.",
                                    "row_count": "15"
                                },
                                {
                                    "címek": "1077 Budapest, Kiss u. 32.",
                                    "row_count": "17"
                                },
                                {
                                    "címek": "1077 Budapest, Nagy u.14.",
                                    "row_count": "6"
                                },
                                {
                                    "címek": "1084 Budapest, Nagy u.14.",
                                    "row_count": "1"
                                },
                                {
                                    "címek": "1102 Budapest, Fő u. 2.",
                                    "row_count": "23"
                                },
                                {
                                    "címek": "1102 Budapest, Kiss u. 32.",
                                    "row_count": "19"
                                },
                                {
                                    "címek": "1102 Budapest, Nagy u.14.",
                                    "row_count": "2"
                                },
                                {
                                    "címek": "1107 Budapest, Kiss u. 32.",
                                    "row_count": "2"
                                },
                                {
                                    "címek": "1124 Budapest, Fő u. 2.",
                                    "row_count": "1"
                                },
                                {
                                    "címek": "1124 Budapest, Kiss u. 32.",
                                    "row_count": "1"
                                },
                                {
                                    "címek": "1149 Budapest, Fő u. 2.",
                                    "row_count": "18"
                                },
                                {
                                    "címek": "1149 Budapest, Kiss u. 32.",
                                    "row_count": "15"
                                },
                                {
                                    "címek": "1149 Budapest, Nagy u.14.",
                                    "row_count": "7"
                                },
                                {
                                    "címek": "1155 Budapest, Nagy u.14.",
                                    "row_count": "1"
                                },
                                {
                                    "címek": "1173 Budapest, Fő u. 2.",
                                    "row_count": "19"
                                },
                                {
                                    "címek": "1173 Budapest, Kiss u. 32.",
                                    "row_count": "12"
                                },
                                {
                                    "címek": "1173 Budapest, Nagy u.14.",
                                    "row_count": "5"
                                },
                                {
                                    "címek": "1183 Budapest, Fő u. 2.",
                                    "row_count": "16"
                                },
                                {
                                    "címek": "1183 Budapest, Kiss u. 32.",
                                    "row_count": "17"
                                },
                                {
                                    "címek": "1183 Budapest, Nagy u.14.",
                                    "row_count": "4"
                                },
                                {
                                    "címek": "1192 Budapest, Fő u. 2.",
                                    "row_count": "8"
                                },
                                {
                                    "címek": "1192 Budapest, Kiss u. 32.",
                                    "row_count": "20"
                                },
                                {
                                    "címek": "1192 Budapest, Nagy u.14.",
                                    "row_count": "3"
                                },
                                {
                                    "címek": "2000 Szentendre, Fő u. 2.",
                                    "row_count": "13"
                                },
                                {
                                    "címek": "2000 Szentendre, Kiss u. 32.",
                                    "row_count": "16"
                                },
                                {
                                    "címek": "2000 Szentendre, Nagy u.14.",
                                    "row_count": "4"
                                },
                                {
                                    "címek": "2053 Herceghalom, Fő u. 2.",
                                    "row_count": "1"
                                },
                                {
                                    "címek": "2053 Herceghalom, Kiss u. 32.",
                                    "row_count": "1"
                                },
                                {
                                    "címek": "2085 Pilisvörösvár, Fő u. 2.",
                                    "row_count": "13"
                                },
                                {
                                    "címek": "2085 Pilisvörösvár, Kiss u. 32.",
                                    "row_count": "12"
                                },
                                {
                                    "címek": "2085 Pilisvörösvár, Nagy u.14.",
                                    "row_count": "5"
                                },
                                {
                                    "címek": "2100 Gödöllő, Fő u. 2.",
                                    "row_count": "27"
                                },
                                {
                                    "címek": "2100 Gödöllő, Kiss u. 32.",
                                    "row_count": "22"
                                },
                                {
                                    "címek": "2100 Gödöllő, Nagy u.14.",
                                    "row_count": "4"
                                },
                                {
                                    "címek": "2115 Vácszentlászló, Fő u. 2.",
                                    "row_count": "3"
                                },
                                {
                                    "címek": "2115 Vácszentlászló, Kiss u. 32.",
                                    "row_count": "2"
                                },
                                {
                                    "címek": "2115 Vácszentlászló, Nagy u.14.",
                                    "row_count": "2"
                                },
                                {
                                    "címek": "2117 Isaszeg, Fő u. 2.",
                                    "row_count": "3"
                                },
                                {
                                    "címek": "2117 Isaszeg, Kiss u. 32.",
                                    "row_count": "1"
                                },
                                {
                                    "címek": "2131 Göd, Fő u. 2.",
                                    "row_count": "1"
                                },
                                {
                                    "címek": "2131 Göd, Kiss u. 32.",
                                    "row_count": "1"
                                },
                                {
                                    "címek": "2241 Sülysáp, Fő u. 2.",
                                    "row_count": "15"
                                },
                                {
                                    "címek": "2241 Sülysáp, Kiss u. 32.",
                                    "row_count": "14"
                                },
                                {
                                    "címek": "2241 Sülysáp, Nagy u.14.",
                                    "row_count": "4"
                                },
                                {
                                    "címek": "2300 Ráckeve, Fő u. 2.",
                                    "row_count": "22"
                                },
                                {
                                    "címek": "2300 Ráckeve, Kiss u. 32.",
                                    "row_count": "13"
                                },
                                {
                                    "címek": "2300 Ráckeve, Nagy u.14.",
                                    "row_count": "3"
                                },
                                {
                                    "címek": "2330 Dunaharaszti, Fő u. 2.",
                                    "row_count": "2"
                                },
                                {
                                    "címek": "2330 Dunaharaszti, Kiss u. 32.",
                                    "row_count": "1"
                                },
                                {
                                    "címek": "2370 Dabas, Fő u. 2.",
                                    "row_count": "2"
                                },
                                {
                                    "címek": "2370 Dabas, Kiss u. 32.",
                                    "row_count": "1"
                                },
                                {
                                    "címek": "2370 Dabas, Nagy u.14.",
                                    "row_count": "2"
                                },
                                {
                                    "címek": "2377 Örkény, Fő u. 2.",
                                    "row_count": "2"
                                },
                                {
                                    "címek": "2381 Táborfalva, Kiss u. 32.",
                                    "row_count": "1"
                                },
                                {
                                    "címek": "2424 Előszállás, Fő u. 2.",
                                    "row_count": "21"
                                },
                                {
                                    "címek": "2424 Előszállás, Kiss u. 32.",
                                    "row_count": "13"
                                },
                                {
                                    "címek": "2424 Előszállás, Nagy u.14.",
                                    "row_count": "3"
                                },
                                {
                                    "címek": "2462 Martonvásár, Fő u. 2.",
                                    "row_count": "18"
                                },
                                {
                                    "címek": "2462 Martonvásár, Kiss u. 32.",
                                    "row_count": "13"
                                },
                                {
                                    "címek": "2462 Martonvásár, Nagy u.14.",
                                    "row_count": "9"
                                },
                                {
                                    "címek": "2484 Agárd, Fő u. 2.",
                                    "row_count": "28"
                                },
                                {
                                    "címek": "2484 Agárd, Kiss u. 32.",
                                    "row_count": "16"
                                },
                                {
                                    "címek": "2484 Agárd, Nagy u.14.",
                                    "row_count": "3"
                                },
                                {
                                    "címek": "2532 Tokodaltáró, Kiss u. 32.",
                                    "row_count": "2"
                                },
                                {
                                    "címek": "2600 Vác, Kiss u. 32.",
                                    "row_count": "2"
                                },
                                {
                                    "címek": "2700 Cegléd, Fő u. 2.",
                                    "row_count": "17"
                                },
                                {
                                    "címek": "2700 Cegléd, Kiss u. 32.",
                                    "row_count": "14"
                                },
                                {
                                    "címek": "2700 Cegléd, Nagy u.14.",
                                    "row_count": "5"
                                },
                                {
                                    "címek": "2730 Albertirsa, Fő u. 2.",
                                    "row_count": "17"
                                },
                                {
                                    "címek": "2730 Albertirsa, Kiss u. 32.",
                                    "row_count": "17"
                                },
                                {
                                    "címek": "2730 Albertirsa, Nagy u.14.",
                                    "row_count": "7"
                                },
                                {
                                    "címek": "2800 Tatabánya, Fő u. 2.",
                                    "row_count": "1"
                                },
                                {
                                    "címek": "2800 Tatabánya, Nagy u.14.",
                                    "row_count": "1"
                                },
                                {
                                    "címek": "2855 Bokod, Fő u. 2.",
                                    "row_count": "18"
                                },
                                {
                                    "címek": "2855 Bokod, Kiss u. 32.",
                                    "row_count": "18"
                                },
                                {
                                    "címek": "2855 Bokod, Nagy u.14.",
                                    "row_count": "5"
                                },
                                {
                                    "címek": "3300 Eger, Nagy u.14.",
                                    "row_count": "1"
                                },
                                {
                                    "címek": "3500 Miskolc, Kiss u. 32.",
                                    "row_count": "1"
                                },
                                {
                                    "címek": "3580 Tiszaújváros, Fő u. 2.",
                                    "row_count": "22"
                                },
                                {
                                    "címek": "3580 Tiszaújváros, Kiss u. 32.",
                                    "row_count": "8"
                                },
                                {
                                    "címek": "3580 Tiszaújváros, Nagy u.14.",
                                    "row_count": "5"
                                },
                                {
                                    "címek": "3630 Putnok, Fő u. 2.",
                                    "row_count": "1"
                                },
                                {
                                    "címek": "3630 Putnok, Kiss u. 32.",
                                    "row_count": "1"
                                },
                                {
                                    "címek": "3643 Dédestapolcsány, Fő u. 2.",
                                    "row_count": "18"
                                },
                                {
                                    "címek": "3643 Dédestapolcsány, Kiss u. 32.",
                                    "row_count": "20"
                                },
                                {
                                    "címek": "3643 Dédestapolcsány, Nagy u.14.",
                                    "row_count": "4"
                                },
                                {
                                    "címek": "3783 Edelény, Fő u. 2.",
                                    "row_count": "1"
                                },
                                {
                                    "címek": "3860 Encs, Nagy u.14.",
                                    "row_count": "1"
                                },
                                {
                                    "címek": "3895 Gönc, Fő u. 2.",
                                    "row_count": "1"
                                },
                                {
                                    "címek": "3895 Gönc, Kiss u. 32.",
                                    "row_count": "1"
                                },
                                {
                                    "címek": "3910 Tokaj, Fő u. 2.",
                                    "row_count": "2"
                                },
                                {
                                    "címek": "3910 Tokaj, Kiss u. 32.",
                                    "row_count": "1"
                                },
                                {
                                    "címek": "3973 Cigánd, Fő u. 2.",
                                    "row_count": "15"
                                },
                                {
                                    "címek": "3973 Cigánd, Kiss u. 32.",
                                    "row_count": "15"
                                },
                                {
                                    "címek": "3973 Cigánd, Nagy u.14.",
                                    "row_count": "3"
                                },
                                {
                                    "címek": "3980 Sátoraljaújhely, Fő u. 2.",
                                    "row_count": "1"
                                },
                                {
                                    "címek": "4060 Balmazújváros, Fő u. 2.",
                                    "row_count": "16"
                                },
                                {
                                    "címek": "4060 Balmazújváros, Kiss u. 32.",
                                    "row_count": "11"
                                },
                                {
                                    "címek": "4060 Balmazújváros, Nagy u.14.",
                                    "row_count": "7"
                                },
                                {
                                    "címek": "4071 Egyek, Fő u. 2.",
                                    "row_count": "1"
                                },
                                {
                                    "címek": "4071 Egyek, Kiss u. 32.",
                                    "row_count": "3"
                                },
                                {
                                    "címek": "4172 Biharnagybajom, Kiss u. 32.",
                                    "row_count": "2"
                                },
                                {
                                    "címek": "4200 Hajdúszoboszló, Fő u. 2.",
                                    "row_count": "1"
                                },
                                {
                                    "címek": "4200 Hajdúszoboszló, Kiss u. 32.",
                                    "row_count": "1"
                                },
                                {
                                    "címek": "4231 Bököny, Fő u. 2.",
                                    "row_count": "15"
                                },
                                {
                                    "címek": "4231 Bököny, Kiss u. 32.",
                                    "row_count": "16"
                                },
                                {
                                    "címek": "4231 Bököny, Nagy u.14.",
                                    "row_count": "3"
                                },
                                {
                                    "címek": "4244 Újfehértó, Fő u. 2.",
                                    "row_count": "14"
                                },
                                {
                                    "címek": "4244 Újfehértó, Kiss u. 32.",
                                    "row_count": "8"
                                },
                                {
                                    "címek": "4244 Újfehértó, Nagy u.14.",
                                    "row_count": "6"
                                },
                                {
                                    "címek": "4400 Nyíregyháza, Fő u. 2.",
                                    "row_count": "17"
                                },
                                {
                                    "címek": "4400 Nyíregyháza, Kiss u. 32.",
                                    "row_count": "21"
                                },
                                {
                                    "címek": "4400 Nyíregyháza, Nagy u.14.",
                                    "row_count": "4"
                                },
                                {
                                    "címek": "4440 Tiszavasvári, Fő u. 2.",
                                    "row_count": "19"
                                },
                                {
                                    "címek": "4440 Tiszavasvári, Kiss u. 32.",
                                    "row_count": "15"
                                },
                                {
                                    "címek": "4440 Tiszavasvári, Nagy u.14.",
                                    "row_count": "6"
                                },
                                {
                                    "címek": "4600 Kisvárda, Fő u. 2.",
                                    "row_count": "1"
                                },
                                {
                                    "címek": "4800 Vásárosnamény, Fő u. 2.",
                                    "row_count": "1"
                                },
                                {
                                    "címek": "4800 Vásárosnamény, Kiss u. 32.",
                                    "row_count": "2"
                                },
                                {
                                    "címek": "5061 Tiszasüly, Fő u. 2.",
                                    "row_count": "13"
                                },
                                {
                                    "címek": "5061 Tiszasüly, Kiss u. 32.",
                                    "row_count": "12"
                                },
                                {
                                    "címek": "5061 Tiszasüly, Nagy u.14.",
                                    "row_count": "3"
                                },
                                {
                                    "címek": "5065 Nagykörű, Fő u. 2.",
                                    "row_count": "22"
                                },
                                {
                                    "címek": "5065 Nagykörű, Kiss u. 32.",
                                    "row_count": "12"
                                },
                                {
                                    "címek": "5065 Nagykörű, Nagy u.14.",
                                    "row_count": "5"
                                },
                                {
                                    "címek": "5071 Besenyszög, Fő u. 2.",
                                    "row_count": "29"
                                },
                                {
                                    "címek": "5071 Besenyszög, Kiss u. 32.",
                                    "row_count": "14"
                                },
                                {
                                    "címek": "5071 Besenyszög, Nagy u.14.",
                                    "row_count": "7"
                                },
                                {
                                    "címek": "5083 Kengyel, Nagy u.14.",
                                    "row_count": "1"
                                },
                                {
                                    "címek": "5085 Rákóczifalva, Kiss u. 32.",
                                    "row_count": "1"
                                },
                                {
                                    "címek": "5137 Jászkisér, Fő u. 2.",
                                    "row_count": "54"
                                },
                                {
                                    "címek": "5137 Jászkisér, Kiss u. 32.",
                                    "row_count": "40"
                                },
                                {
                                    "címek": "5137 Jászkisér, Nagy u.14.",
                                    "row_count": "20"
                                },
                                {
                                    "címek": "5200 Törökszentmiklós, Fő u. 2.",
                                    "row_count": "39"
                                },
                                {
                                    "címek": "5200 Törökszentmiklós, Kiss u. 32.",
                                    "row_count": "25"
                                },
                                {
                                    "címek": "5200 Törökszentmiklós, Nagy u.14.",
                                    "row_count": "10"
                                },
                                {
                                    "címek": "5310 Kisújszállás, Fő u. 2.",
                                    "row_count": "23"
                                },
                                {
                                    "címek": "5310 Kisújszállás, Kiss u. 32.",
                                    "row_count": "19"
                                },
                                {
                                    "címek": "5310 Kisújszállás, Nagy u.14.",
                                    "row_count": "4"
                                },
                                {
                                    "címek": "5465 Cserkeszőlő, Fő u. 2.",
                                    "row_count": "1"
                                },
                                {
                                    "címek": "5530 Vésztő, Fő u. 2.",
                                    "row_count": "2"
                                },
                                {
                                    "címek": "5530 Vésztő, Nagy u.14.",
                                    "row_count": "1"
                                },
                                {
                                    "címek": "5537 Zsadány, Fő u. 2.",
                                    "row_count": "22"
                                },
                                {
                                    "címek": "5537 Zsadány, Kiss u. 32.",
                                    "row_count": "12"
                                },
                                {
                                    "címek": "5537 Zsadány, Nagy u.14.",
                                    "row_count": "5"
                                },
                                {
                                    "címek": "5630 Békés, Fő u. 2.",
                                    "row_count": "13"
                                },
                                {
                                    "címek": "5630 Békés, Kiss u. 32.",
                                    "row_count": "19"
                                },
                                {
                                    "címek": "5630 Békés, Nagy u.14.",
                                    "row_count": "7"
                                },
                                {
                                    "címek": "5920 Csorvás, Fő u. 2.",
                                    "row_count": "25"
                                },
                                {
                                    "címek": "5920 Csorvás, Kiss u. 32.",
                                    "row_count": "15"
                                },
                                {
                                    "címek": "5920 Csorvás, Nagy u.14.",
                                    "row_count": "6"
                                },
                                {
                                    "címek": "5931 Nagyszénás, Fő u. 2.",
                                    "row_count": "18"
                                },
                                {
                                    "címek": "5931 Nagyszénás, Kiss u. 32.",
                                    "row_count": "13"
                                },
                                {
                                    "címek": "5931 Nagyszénás, Nagy u.14.",
                                    "row_count": "5"
                                },
                                {
                                    "címek": "5940 Tótkomlós, Fő u. 2.",
                                    "row_count": "1"
                                },
                                {
                                    "címek": "5940 Tótkomlós, Kiss u. 32.",
                                    "row_count": "1"
                                },
                                {
                                    "címek": "5940 Tótkomlós, Nagy u.14.",
                                    "row_count": "1"
                                },
                                {
                                    "címek": "6050 Lajosmizse, Fő u. 2.",
                                    "row_count": "16"
                                },
                                {
                                    "címek": "6050 Lajosmizse, Kiss u. 32.",
                                    "row_count": "14"
                                },
                                {
                                    "címek": "6050 Lajosmizse, Nagy u.14.",
                                    "row_count": "8"
                                },
                                {
                                    "címek": "6060 Tiszakécske, Fő u. 2.",
                                    "row_count": "2"
                                },
                                {
                                    "címek": "6080 Szabadszállás, Fő u. 2.",
                                    "row_count": "13"
                                },
                                {
                                    "címek": "6080 Szabadszállás, Kiss u. 32.",
                                    "row_count": "11"
                                },
                                {
                                    "címek": "6080 Szabadszállás, Nagy u.14.",
                                    "row_count": "8"
                                },
                                {
                                    "címek": "6131 Szank, Fő u. 2.",
                                    "row_count": "1"
                                },
                                {
                                    "címek": "6131 Szank, Kiss u. 32.",
                                    "row_count": "1"
                                },
                                {
                                    "címek": "6412 Balotaszállás, Fő u. 2.",
                                    "row_count": "3"
                                },
                                {
                                    "címek": "6430 Bácsalmás, Fő u. 2.",
                                    "row_count": "17"
                                },
                                {
                                    "címek": "6430 Bácsalmás, Kiss u. 32.",
                                    "row_count": "11"
                                },
                                {
                                    "címek": "6430 Bácsalmás, Nagy u.14.",
                                    "row_count": "9"
                                },
                                {
                                    "címek": "6500 Baja, Fő u. 2.",
                                    "row_count": "1"
                                },
                                {
                                    "címek": "6500 Baja, Kiss u. 32.",
                                    "row_count": "1"
                                },
                                {
                                    "címek": "6646 Tömörkény, Fő u. 2.",
                                    "row_count": "27"
                                },
                                {
                                    "címek": "6646 Tömörkény, Kiss u. 32.",
                                    "row_count": "13"
                                },
                                {
                                    "címek": "6646 Tömörkény, Nagy u.14.",
                                    "row_count": "9"
                                },
                                {
                                    "címek": "6700 Szeged, Fő u. 2.",
                                    "row_count": "23"
                                },
                                {
                                    "címek": "6700 Szeged, Kiss u. 32.",
                                    "row_count": "22"
                                },
                                {
                                    "címek": "6700 Szeged, Nagy u.14.",
                                    "row_count": "5"
                                },
                                {
                                    "címek": "6760 Kistelek, Fő u. 2.",
                                    "row_count": "23"
                                },
                                {
                                    "címek": "6760 Kistelek, Kiss u. 32.",
                                    "row_count": "12"
                                },
                                {
                                    "címek": "6760 Kistelek, Nagy u.14.",
                                    "row_count": "3"
                                },
                                {
                                    "címek": "6762 Sándorfalva, Fő u. 2.",
                                    "row_count": "1"
                                },
                                {
                                    "címek": "6762 Sándorfalva, Kiss u. 32.",
                                    "row_count": "1"
                                },
                                {
                                    "címek": "6786 Ruzsa, Fő u. 2.",
                                    "row_count": "28"
                                },
                                {
                                    "címek": "6786 Ruzsa, Kiss u. 32.",
                                    "row_count": "27"
                                },
                                {
                                    "címek": "6786 Ruzsa, Nagy u.14.",
                                    "row_count": "12"
                                },
                                {
                                    "címek": "6900 Makó, Kiss u. 32.",
                                    "row_count": "1"
                                },
                                {
                                    "címek": "6913 Csanádpalota, Fő u. 2.",
                                    "row_count": "19"
                                },
                                {
                                    "címek": "6913 Csanádpalota, Kiss u. 32.",
                                    "row_count": "17"
                                },
                                {
                                    "címek": "6913 Csanádpalota, Nagy u.14.",
                                    "row_count": "7"
                                },
                                {
                                    "címek": "7000 Sárbogárd, Fő u. 2.",
                                    "row_count": "1"
                                },
                                {
                                    "címek": "7000 Sárbogárd, Kiss u. 32.",
                                    "row_count": "1"
                                },
                                {
                                    "címek": "7086 Ozora, Fő u. 2.",
                                    "row_count": "15"
                                },
                                {
                                    "címek": "7086 Ozora, Kiss u. 32.",
                                    "row_count": "20"
                                },
                                {
                                    "címek": "7086 Ozora, Nagy u.14.",
                                    "row_count": "9"
                                },
                                {
                                    "címek": "7100 Szekszárd, Fő u. 2.",
                                    "row_count": "14"
                                },
                                {
                                    "címek": "7100 Szekszárd, Kiss u. 32.",
                                    "row_count": "12"
                                },
                                {
                                    "címek": "7100 Szekszárd, Nagy u.14.",
                                    "row_count": "8"
                                },
                                {
                                    "címek": "7130 Tolna, Fő u. 2.",
                                    "row_count": "2"
                                },
                                {
                                    "címek": "7130 Tolna, Kiss u. 32.",
                                    "row_count": "2"
                                },
                                {
                                    "címek": "7133 Fadd, Fő u. 2.",
                                    "row_count": "15"
                                },
                                {
                                    "címek": "7133 Fadd, Kiss u. 32.",
                                    "row_count": "13"
                                },
                                {
                                    "címek": "7133 Fadd, Nagy u.14.",
                                    "row_count": "2"
                                },
                                {
                                    "címek": "7149 Báta, Fő u. 2.",
                                    "row_count": "19"
                                },
                                {
                                    "címek": "7149 Báta, Kiss u. 32.",
                                    "row_count": "16"
                                },
                                {
                                    "címek": "7149 Báta, Nagy u.14.",
                                    "row_count": "4"
                                },
                                {
                                    "címek": "7150 Bonyhád, Fő u. 2.",
                                    "row_count": "2"
                                },
                                {
                                    "címek": "7150 Bonyhád, Kiss u. 32.",
                                    "row_count": "1"
                                },
                                {
                                    "címek": "7220 Sarkad, Fő u. 2.",
                                    "row_count": "2"
                                },
                                {
                                    "címek": "7220 Sarkad, Kiss u. 32.",
                                    "row_count": "1"
                                },
                                {
                                    "címek": "7349 Szászvár, Fő u. 2.",
                                    "row_count": "1"
                                },
                                {
                                    "címek": "7349 Szászvár, Kiss u. 32.",
                                    "row_count": "1"
                                },
                                {
                                    "címek": "7396 Magyarszék, Fő u. 2.",
                                    "row_count": "21"
                                },
                                {
                                    "címek": "7396 Magyarszék, Kiss u. 32.",
                                    "row_count": "15"
                                },
                                {
                                    "címek": "7396 Magyarszék, Nagy u.14.",
                                    "row_count": "7"
                                },
                                {
                                    "címek": "7511 Ötvöskónyi, Kiss u. 32.",
                                    "row_count": "1"
                                },
                                {
                                    "címek": "7511 Ötvöskónyi, Nagy u.14.",
                                    "row_count": "1"
                                },
                                {
                                    "címek": "7900 Szigetvár, Fő u. 2.",
                                    "row_count": "23"
                                },
                                {
                                    "címek": "7900 Szigetvár, Kiss u. 32.",
                                    "row_count": "13"
                                },
                                {
                                    "címek": "7900 Szigetvár, Nagy u.14.",
                                    "row_count": "7"
                                },
                                {
                                    "címek": "7960 Sellye, Fő u. 2.",
                                    "row_count": "27"
                                },
                                {
                                    "címek": "7960 Sellye, Kiss u. 32.",
                                    "row_count": "11"
                                },
                                {
                                    "címek": "7960 Sellye, Nagy u.14.",
                                    "row_count": "5"
                                },
                                {
                                    "címek": "8200 Veszprém, Fő u. 2.",
                                    "row_count": "22"
                                },
                                {
                                    "címek": "8200 Veszprém, Kiss u. 32.",
                                    "row_count": "19"
                                },
                                {
                                    "címek": "8200 Veszprém, Nagy u.14.",
                                    "row_count": "2"
                                },
                                {
                                    "címek": "8220 Balatonalmádi, Fő u. 2.",
                                    "row_count": "1"
                                },
                                {
                                    "címek": "8220 Balatonalmádi, Kiss u. 32.",
                                    "row_count": "1"
                                },
                                {
                                    "címek": "8237 Tihany, Fő u. 2.",
                                    "row_count": "1"
                                },
                                {
                                    "címek": "8237 Tihany, Kiss u. 32.",
                                    "row_count": "1"
                                },
                                {
                                    "címek": "8237 Tihany, Nagy u.14.",
                                    "row_count": "1"
                                },
                                {
                                    "címek": "8254 Kővágóörs, Fő u. 2.",
                                    "row_count": "4"
                                },
                                {
                                    "címek": "8254 Kővágóörs, Kiss u. 32.",
                                    "row_count": "1"
                                },
                                {
                                    "címek": "8283 Káptalantóti, Fő u. 2.",
                                    "row_count": "1"
                                },
                                {
                                    "címek": "8283 Káptalantóti, Kiss u. 32.",
                                    "row_count": "3"
                                },
                                {
                                    "címek": "8313 Balatongyörök, Fő u. 2.",
                                    "row_count": "21"
                                },
                                {
                                    "címek": "8313 Balatongyörök, Kiss u. 32.",
                                    "row_count": "16"
                                },
                                {
                                    "címek": "8313 Balatongyörök, Nagy u.14.",
                                    "row_count": "3"
                                },
                                {
                                    "címek": "8315 Gyenesdiás, Fő u. 2.",
                                    "row_count": "1"
                                },
                                {
                                    "címek": "8391 Sármellék, Fő u. 2.",
                                    "row_count": "3"
                                },
                                {
                                    "címek": "8391 Sármellék, Kiss u. 32.",
                                    "row_count": "1"
                                },
                                {
                                    "címek": "8630 Balatonboglár, Fő u. 2.",
                                    "row_count": "1"
                                },
                                {
                                    "címek": "8638 Balatonlelle, Kiss u. 32.",
                                    "row_count": "1"
                                },
                                {
                                    "címek": "8640 Fonyód, Fő u. 2.",
                                    "row_count": "1"
                                },
                                {
                                    "címek": "8640 Fonyód, Kiss u. 32.",
                                    "row_count": "1"
                                },
                                {
                                    "címek": "8800 Nagykanizsa, Fő u. 2.",
                                    "row_count": "1"
                                },
                                {
                                    "címek": "8800 Nagykanizsa, Kiss u. 32.",
                                    "row_count": "1"
                                },
                                {
                                    "címek": "9023 Győr, Fő u. 2.",
                                    "row_count": "61"
                                },
                                {
                                    "címek": "9023 Győr, Kiss u. 32.",
                                    "row_count": "41"
                                },
                                {
                                    "címek": "9023 Győr, Nagy u.14.",
                                    "row_count": "8"
                                },
                                {
                                    "címek": "9071 Görbeháza, Fő u. 2.",
                                    "row_count": "2"
                                },
                                {
                                    "címek": "9155 Lébény, Fő u. 2.",
                                    "row_count": "15"
                                },
                                {
                                    "címek": "9155 Lébény, Kiss u. 32.",
                                    "row_count": "17"
                                },
                                {
                                    "címek": "9155 Lébény, Nagy u.14.",
                                    "row_count": "7"
                                },
                                {
                                    "címek": "9181 Kimle, Fő u. 2.",
                                    "row_count": "26"
                                },
                                {
                                    "címek": "9181 Kimle, Kiss u. 32.",
                                    "row_count": "16"
                                },
                                {
                                    "címek": "9181 Kimle, Nagy u.14.",
                                    "row_count": "5"
                                },
                                {
                                    "címek": "9653 Répcelak, Fő u. 2.",
                                    "row_count": "21"
                                },
                                {
                                    "címek": "9653 Répcelak, Kiss u. 32.",
                                    "row_count": "16"
                                },
                                {
                                    "címek": "9653 Répcelak, Nagy u.14.",
                                    "row_count": "4"
                                },
                                {
                                    "címek": "9970 Szentgotthárd, Kiss u. 32.",
                                    "row_count": "1"
                                },
                                {
                                    "címek": "9970 Szentgotthárd, Nagy u.14.",
                                    "row_count": "1"
                                }
                            ]
                        },
                        "text/html": [
                            "<table>",
                            "<tr><th>címek</th><th>row_count</th></tr>",
                            "<tr><td>1011 Budapest, Kiss u. 32.</td><td>3</td></tr>",
                            "<tr><td>1035 Budapest, Fő u. 2.</td><td>2</td></tr>",
                            "<tr><td>1035 Budapest, Kiss u. 32.</td><td>3</td></tr>",
                            "<tr><td>1035 Budapest, Nagy u.14.</td><td>1</td></tr>",
                            "<tr><td>1047 Budapest, Fő u. 2.</td><td>1</td></tr>",
                            "<tr><td>1047 Budapest, Kiss u. 32.</td><td>1</td></tr>",
                            "<tr><td>1047 Budapest, Nagy u.14.</td><td>1</td></tr>",
                            "<tr><td>1067 Budapest, Fő u. 2.</td><td>2</td></tr>",
                            "<tr><td>1067 Budapest, Kiss u. 32.</td><td>1</td></tr>",
                            "<tr><td>1067 Budapest, Nagy u.14.</td><td>1</td></tr>",
                            "<tr><td>1072 Budapest, Fő u. 2.</td><td>2</td></tr>",
                            "<tr><td>1077 Budapest, Fő u. 2.</td><td>15</td></tr>",
                            "<tr><td>1077 Budapest, Kiss u. 32.</td><td>17</td></tr>",
                            "<tr><td>1077 Budapest, Nagy u.14.</td><td>6</td></tr>",
                            "<tr><td>1084 Budapest, Nagy u.14.</td><td>1</td></tr>",
                            "<tr><td>1102 Budapest, Fő u. 2.</td><td>23</td></tr>",
                            "<tr><td>1102 Budapest, Kiss u. 32.</td><td>19</td></tr>",
                            "<tr><td>1102 Budapest, Nagy u.14.</td><td>2</td></tr>",
                            "<tr><td>1107 Budapest, Kiss u. 32.</td><td>2</td></tr>",
                            "<tr><td>1124 Budapest, Fő u. 2.</td><td>1</td></tr>",
                            "<tr><td>1124 Budapest, Kiss u. 32.</td><td>1</td></tr>",
                            "<tr><td>1149 Budapest, Fő u. 2.</td><td>18</td></tr>",
                            "<tr><td>1149 Budapest, Kiss u. 32.</td><td>15</td></tr>",
                            "<tr><td>1149 Budapest, Nagy u.14.</td><td>7</td></tr>",
                            "<tr><td>1155 Budapest, Nagy u.14.</td><td>1</td></tr>",
                            "<tr><td>1173 Budapest, Fő u. 2.</td><td>19</td></tr>",
                            "<tr><td>1173 Budapest, Kiss u. 32.</td><td>12</td></tr>",
                            "<tr><td>1173 Budapest, Nagy u.14.</td><td>5</td></tr>",
                            "<tr><td>1183 Budapest, Fő u. 2.</td><td>16</td></tr>",
                            "<tr><td>1183 Budapest, Kiss u. 32.</td><td>17</td></tr>",
                            "<tr><td>1183 Budapest, Nagy u.14.</td><td>4</td></tr>",
                            "<tr><td>1192 Budapest, Fő u. 2.</td><td>8</td></tr>",
                            "<tr><td>1192 Budapest, Kiss u. 32.</td><td>20</td></tr>",
                            "<tr><td>1192 Budapest, Nagy u.14.</td><td>3</td></tr>",
                            "<tr><td>2000 Szentendre, Fő u. 2.</td><td>13</td></tr>",
                            "<tr><td>2000 Szentendre, Kiss u. 32.</td><td>16</td></tr>",
                            "<tr><td>2000 Szentendre, Nagy u.14.</td><td>4</td></tr>",
                            "<tr><td>2053 Herceghalom, Fő u. 2.</td><td>1</td></tr>",
                            "<tr><td>2053 Herceghalom, Kiss u. 32.</td><td>1</td></tr>",
                            "<tr><td>2085 Pilisvörösvár, Fő u. 2.</td><td>13</td></tr>",
                            "<tr><td>2085 Pilisvörösvár, Kiss u. 32.</td><td>12</td></tr>",
                            "<tr><td>2085 Pilisvörösvár, Nagy u.14.</td><td>5</td></tr>",
                            "<tr><td>2100 Gödöllő, Fő u. 2.</td><td>27</td></tr>",
                            "<tr><td>2100 Gödöllő, Kiss u. 32.</td><td>22</td></tr>",
                            "<tr><td>2100 Gödöllő, Nagy u.14.</td><td>4</td></tr>",
                            "<tr><td>2115 Vácszentlászló, Fő u. 2.</td><td>3</td></tr>",
                            "<tr><td>2115 Vácszentlászló, Kiss u. 32.</td><td>2</td></tr>",
                            "<tr><td>2115 Vácszentlászló, Nagy u.14.</td><td>2</td></tr>",
                            "<tr><td>2117 Isaszeg, Fő u. 2.</td><td>3</td></tr>",
                            "<tr><td>2117 Isaszeg, Kiss u. 32.</td><td>1</td></tr>",
                            "<tr><td>2131 Göd, Fő u. 2.</td><td>1</td></tr>",
                            "<tr><td>2131 Göd, Kiss u. 32.</td><td>1</td></tr>",
                            "<tr><td>2241 Sülysáp, Fő u. 2.</td><td>15</td></tr>",
                            "<tr><td>2241 Sülysáp, Kiss u. 32.</td><td>14</td></tr>",
                            "<tr><td>2241 Sülysáp, Nagy u.14.</td><td>4</td></tr>",
                            "<tr><td>2300 Ráckeve, Fő u. 2.</td><td>22</td></tr>",
                            "<tr><td>2300 Ráckeve, Kiss u. 32.</td><td>13</td></tr>",
                            "<tr><td>2300 Ráckeve, Nagy u.14.</td><td>3</td></tr>",
                            "<tr><td>2330 Dunaharaszti, Fő u. 2.</td><td>2</td></tr>",
                            "<tr><td>2330 Dunaharaszti, Kiss u. 32.</td><td>1</td></tr>",
                            "<tr><td>2370 Dabas, Fő u. 2.</td><td>2</td></tr>",
                            "<tr><td>2370 Dabas, Kiss u. 32.</td><td>1</td></tr>",
                            "<tr><td>2370 Dabas, Nagy u.14.</td><td>2</td></tr>",
                            "<tr><td>2377 Örkény, Fő u. 2.</td><td>2</td></tr>",
                            "<tr><td>2381 Táborfalva, Kiss u. 32.</td><td>1</td></tr>",
                            "<tr><td>2424 Előszállás, Fő u. 2.</td><td>21</td></tr>",
                            "<tr><td>2424 Előszállás, Kiss u. 32.</td><td>13</td></tr>",
                            "<tr><td>2424 Előszállás, Nagy u.14.</td><td>3</td></tr>",
                            "<tr><td>2462 Martonvásár, Fő u. 2.</td><td>18</td></tr>",
                            "<tr><td>2462 Martonvásár, Kiss u. 32.</td><td>13</td></tr>",
                            "<tr><td>2462 Martonvásár, Nagy u.14.</td><td>9</td></tr>",
                            "<tr><td>2484 Agárd, Fő u. 2.</td><td>28</td></tr>",
                            "<tr><td>2484 Agárd, Kiss u. 32.</td><td>16</td></tr>",
                            "<tr><td>2484 Agárd, Nagy u.14.</td><td>3</td></tr>",
                            "<tr><td>2532 Tokodaltáró, Kiss u. 32.</td><td>2</td></tr>",
                            "<tr><td>2600 Vác, Kiss u. 32.</td><td>2</td></tr>",
                            "<tr><td>2700 Cegléd, Fő u. 2.</td><td>17</td></tr>",
                            "<tr><td>2700 Cegléd, Kiss u. 32.</td><td>14</td></tr>",
                            "<tr><td>2700 Cegléd, Nagy u.14.</td><td>5</td></tr>",
                            "<tr><td>2730 Albertirsa, Fő u. 2.</td><td>17</td></tr>",
                            "<tr><td>2730 Albertirsa, Kiss u. 32.</td><td>17</td></tr>",
                            "<tr><td>2730 Albertirsa, Nagy u.14.</td><td>7</td></tr>",
                            "<tr><td>2800 Tatabánya, Fő u. 2.</td><td>1</td></tr>",
                            "<tr><td>2800 Tatabánya, Nagy u.14.</td><td>1</td></tr>",
                            "<tr><td>2855 Bokod, Fő u. 2.</td><td>18</td></tr>",
                            "<tr><td>2855 Bokod, Kiss u. 32.</td><td>18</td></tr>",
                            "<tr><td>2855 Bokod, Nagy u.14.</td><td>5</td></tr>",
                            "<tr><td>3300 Eger, Nagy u.14.</td><td>1</td></tr>",
                            "<tr><td>3500 Miskolc, Kiss u. 32.</td><td>1</td></tr>",
                            "<tr><td>3580 Tiszaújváros, Fő u. 2.</td><td>22</td></tr>",
                            "<tr><td>3580 Tiszaújváros, Kiss u. 32.</td><td>8</td></tr>",
                            "<tr><td>3580 Tiszaújváros, Nagy u.14.</td><td>5</td></tr>",
                            "<tr><td>3630 Putnok, Fő u. 2.</td><td>1</td></tr>",
                            "<tr><td>3630 Putnok, Kiss u. 32.</td><td>1</td></tr>",
                            "<tr><td>3643 Dédestapolcsány, Fő u. 2.</td><td>18</td></tr>",
                            "<tr><td>3643 Dédestapolcsány, Kiss u. 32.</td><td>20</td></tr>",
                            "<tr><td>3643 Dédestapolcsány, Nagy u.14.</td><td>4</td></tr>",
                            "<tr><td>3783 Edelény, Fő u. 2.</td><td>1</td></tr>",
                            "<tr><td>3860 Encs, Nagy u.14.</td><td>1</td></tr>",
                            "<tr><td>3895 Gönc, Fő u. 2.</td><td>1</td></tr>",
                            "<tr><td>3895 Gönc, Kiss u. 32.</td><td>1</td></tr>",
                            "<tr><td>3910 Tokaj, Fő u. 2.</td><td>2</td></tr>",
                            "<tr><td>3910 Tokaj, Kiss u. 32.</td><td>1</td></tr>",
                            "<tr><td>3973 Cigánd, Fő u. 2.</td><td>15</td></tr>",
                            "<tr><td>3973 Cigánd, Kiss u. 32.</td><td>15</td></tr>",
                            "<tr><td>3973 Cigánd, Nagy u.14.</td><td>3</td></tr>",
                            "<tr><td>3980 Sátoraljaújhely, Fő u. 2.</td><td>1</td></tr>",
                            "<tr><td>4060 Balmazújváros, Fő u. 2.</td><td>16</td></tr>",
                            "<tr><td>4060 Balmazújváros, Kiss u. 32.</td><td>11</td></tr>",
                            "<tr><td>4060 Balmazújváros, Nagy u.14.</td><td>7</td></tr>",
                            "<tr><td>4071 Egyek, Fő u. 2.</td><td>1</td></tr>",
                            "<tr><td>4071 Egyek, Kiss u. 32.</td><td>3</td></tr>",
                            "<tr><td>4172 Biharnagybajom, Kiss u. 32.</td><td>2</td></tr>",
                            "<tr><td>4200 Hajdúszoboszló, Fő u. 2.</td><td>1</td></tr>",
                            "<tr><td>4200 Hajdúszoboszló, Kiss u. 32.</td><td>1</td></tr>",
                            "<tr><td>4231 Bököny, Fő u. 2.</td><td>15</td></tr>",
                            "<tr><td>4231 Bököny, Kiss u. 32.</td><td>16</td></tr>",
                            "<tr><td>4231 Bököny, Nagy u.14.</td><td>3</td></tr>",
                            "<tr><td>4244 Újfehértó, Fő u. 2.</td><td>14</td></tr>",
                            "<tr><td>4244 Újfehértó, Kiss u. 32.</td><td>8</td></tr>",
                            "<tr><td>4244 Újfehértó, Nagy u.14.</td><td>6</td></tr>",
                            "<tr><td>4400 Nyíregyháza, Fő u. 2.</td><td>17</td></tr>",
                            "<tr><td>4400 Nyíregyháza, Kiss u. 32.</td><td>21</td></tr>",
                            "<tr><td>4400 Nyíregyháza, Nagy u.14.</td><td>4</td></tr>",
                            "<tr><td>4440 Tiszavasvári, Fő u. 2.</td><td>19</td></tr>",
                            "<tr><td>4440 Tiszavasvári, Kiss u. 32.</td><td>15</td></tr>",
                            "<tr><td>4440 Tiszavasvári, Nagy u.14.</td><td>6</td></tr>",
                            "<tr><td>4600 Kisvárda, Fő u. 2.</td><td>1</td></tr>",
                            "<tr><td>4800 Vásárosnamény, Fő u. 2.</td><td>1</td></tr>",
                            "<tr><td>4800 Vásárosnamény, Kiss u. 32.</td><td>2</td></tr>",
                            "<tr><td>5061 Tiszasüly, Fő u. 2.</td><td>13</td></tr>",
                            "<tr><td>5061 Tiszasüly, Kiss u. 32.</td><td>12</td></tr>",
                            "<tr><td>5061 Tiszasüly, Nagy u.14.</td><td>3</td></tr>",
                            "<tr><td>5065 Nagykörű, Fő u. 2.</td><td>22</td></tr>",
                            "<tr><td>5065 Nagykörű, Kiss u. 32.</td><td>12</td></tr>",
                            "<tr><td>5065 Nagykörű, Nagy u.14.</td><td>5</td></tr>",
                            "<tr><td>5071 Besenyszög, Fő u. 2.</td><td>29</td></tr>",
                            "<tr><td>5071 Besenyszög, Kiss u. 32.</td><td>14</td></tr>",
                            "<tr><td>5071 Besenyszög, Nagy u.14.</td><td>7</td></tr>",
                            "<tr><td>5083 Kengyel, Nagy u.14.</td><td>1</td></tr>",
                            "<tr><td>5085 Rákóczifalva, Kiss u. 32.</td><td>1</td></tr>",
                            "<tr><td>5137 Jászkisér, Fő u. 2.</td><td>54</td></tr>",
                            "<tr><td>5137 Jászkisér, Kiss u. 32.</td><td>40</td></tr>",
                            "<tr><td>5137 Jászkisér, Nagy u.14.</td><td>20</td></tr>",
                            "<tr><td>5200 Törökszentmiklós, Fő u. 2.</td><td>39</td></tr>",
                            "<tr><td>5200 Törökszentmiklós, Kiss u. 32.</td><td>25</td></tr>",
                            "<tr><td>5200 Törökszentmiklós, Nagy u.14.</td><td>10</td></tr>",
                            "<tr><td>5310 Kisújszállás, Fő u. 2.</td><td>23</td></tr>",
                            "<tr><td>5310 Kisújszállás, Kiss u. 32.</td><td>19</td></tr>",
                            "<tr><td>5310 Kisújszállás, Nagy u.14.</td><td>4</td></tr>",
                            "<tr><td>5465 Cserkeszőlő, Fő u. 2.</td><td>1</td></tr>",
                            "<tr><td>5530 Vésztő, Fő u. 2.</td><td>2</td></tr>",
                            "<tr><td>5530 Vésztő, Nagy u.14.</td><td>1</td></tr>",
                            "<tr><td>5537 Zsadány, Fő u. 2.</td><td>22</td></tr>",
                            "<tr><td>5537 Zsadány, Kiss u. 32.</td><td>12</td></tr>",
                            "<tr><td>5537 Zsadány, Nagy u.14.</td><td>5</td></tr>",
                            "<tr><td>5630 Békés, Fő u. 2.</td><td>13</td></tr>",
                            "<tr><td>5630 Békés, Kiss u. 32.</td><td>19</td></tr>",
                            "<tr><td>5630 Békés, Nagy u.14.</td><td>7</td></tr>",
                            "<tr><td>5920 Csorvás, Fő u. 2.</td><td>25</td></tr>",
                            "<tr><td>5920 Csorvás, Kiss u. 32.</td><td>15</td></tr>",
                            "<tr><td>5920 Csorvás, Nagy u.14.</td><td>6</td></tr>",
                            "<tr><td>5931 Nagyszénás, Fő u. 2.</td><td>18</td></tr>",
                            "<tr><td>5931 Nagyszénás, Kiss u. 32.</td><td>13</td></tr>",
                            "<tr><td>5931 Nagyszénás, Nagy u.14.</td><td>5</td></tr>",
                            "<tr><td>5940 Tótkomlós, Fő u. 2.</td><td>1</td></tr>",
                            "<tr><td>5940 Tótkomlós, Kiss u. 32.</td><td>1</td></tr>",
                            "<tr><td>5940 Tótkomlós, Nagy u.14.</td><td>1</td></tr>",
                            "<tr><td>6050 Lajosmizse, Fő u. 2.</td><td>16</td></tr>",
                            "<tr><td>6050 Lajosmizse, Kiss u. 32.</td><td>14</td></tr>",
                            "<tr><td>6050 Lajosmizse, Nagy u.14.</td><td>8</td></tr>",
                            "<tr><td>6060 Tiszakécske, Fő u. 2.</td><td>2</td></tr>",
                            "<tr><td>6080 Szabadszállás, Fő u. 2.</td><td>13</td></tr>",
                            "<tr><td>6080 Szabadszállás, Kiss u. 32.</td><td>11</td></tr>",
                            "<tr><td>6080 Szabadszállás, Nagy u.14.</td><td>8</td></tr>",
                            "<tr><td>6131 Szank, Fő u. 2.</td><td>1</td></tr>",
                            "<tr><td>6131 Szank, Kiss u. 32.</td><td>1</td></tr>",
                            "<tr><td>6412 Balotaszállás, Fő u. 2.</td><td>3</td></tr>",
                            "<tr><td>6430 Bácsalmás, Fő u. 2.</td><td>17</td></tr>",
                            "<tr><td>6430 Bácsalmás, Kiss u. 32.</td><td>11</td></tr>",
                            "<tr><td>6430 Bácsalmás, Nagy u.14.</td><td>9</td></tr>",
                            "<tr><td>6500 Baja, Fő u. 2.</td><td>1</td></tr>",
                            "<tr><td>6500 Baja, Kiss u. 32.</td><td>1</td></tr>",
                            "<tr><td>6646 Tömörkény, Fő u. 2.</td><td>27</td></tr>",
                            "<tr><td>6646 Tömörkény, Kiss u. 32.</td><td>13</td></tr>",
                            "<tr><td>6646 Tömörkény, Nagy u.14.</td><td>9</td></tr>",
                            "<tr><td>6700 Szeged, Fő u. 2.</td><td>23</td></tr>",
                            "<tr><td>6700 Szeged, Kiss u. 32.</td><td>22</td></tr>",
                            "<tr><td>6700 Szeged, Nagy u.14.</td><td>5</td></tr>",
                            "<tr><td>6760 Kistelek, Fő u. 2.</td><td>23</td></tr>",
                            "<tr><td>6760 Kistelek, Kiss u. 32.</td><td>12</td></tr>",
                            "<tr><td>6760 Kistelek, Nagy u.14.</td><td>3</td></tr>",
                            "<tr><td>6762 Sándorfalva, Fő u. 2.</td><td>1</td></tr>",
                            "<tr><td>6762 Sándorfalva, Kiss u. 32.</td><td>1</td></tr>",
                            "<tr><td>6786 Ruzsa, Fő u. 2.</td><td>28</td></tr>",
                            "<tr><td>6786 Ruzsa, Kiss u. 32.</td><td>27</td></tr>",
                            "<tr><td>6786 Ruzsa, Nagy u.14.</td><td>12</td></tr>",
                            "<tr><td>6900 Makó, Kiss u. 32.</td><td>1</td></tr>",
                            "<tr><td>6913 Csanádpalota, Fő u. 2.</td><td>19</td></tr>",
                            "<tr><td>6913 Csanádpalota, Kiss u. 32.</td><td>17</td></tr>",
                            "<tr><td>6913 Csanádpalota, Nagy u.14.</td><td>7</td></tr>",
                            "<tr><td>7000 Sárbogárd, Fő u. 2.</td><td>1</td></tr>",
                            "<tr><td>7000 Sárbogárd, Kiss u. 32.</td><td>1</td></tr>",
                            "<tr><td>7086 Ozora, Fő u. 2.</td><td>15</td></tr>",
                            "<tr><td>7086 Ozora, Kiss u. 32.</td><td>20</td></tr>",
                            "<tr><td>7086 Ozora, Nagy u.14.</td><td>9</td></tr>",
                            "<tr><td>7100 Szekszárd, Fő u. 2.</td><td>14</td></tr>",
                            "<tr><td>7100 Szekszárd, Kiss u. 32.</td><td>12</td></tr>",
                            "<tr><td>7100 Szekszárd, Nagy u.14.</td><td>8</td></tr>",
                            "<tr><td>7130 Tolna, Fő u. 2.</td><td>2</td></tr>",
                            "<tr><td>7130 Tolna, Kiss u. 32.</td><td>2</td></tr>",
                            "<tr><td>7133 Fadd, Fő u. 2.</td><td>15</td></tr>",
                            "<tr><td>7133 Fadd, Kiss u. 32.</td><td>13</td></tr>",
                            "<tr><td>7133 Fadd, Nagy u.14.</td><td>2</td></tr>",
                            "<tr><td>7149 Báta, Fő u. 2.</td><td>19</td></tr>",
                            "<tr><td>7149 Báta, Kiss u. 32.</td><td>16</td></tr>",
                            "<tr><td>7149 Báta, Nagy u.14.</td><td>4</td></tr>",
                            "<tr><td>7150 Bonyhád, Fő u. 2.</td><td>2</td></tr>",
                            "<tr><td>7150 Bonyhád, Kiss u. 32.</td><td>1</td></tr>",
                            "<tr><td>7220 Sarkad, Fő u. 2.</td><td>2</td></tr>",
                            "<tr><td>7220 Sarkad, Kiss u. 32.</td><td>1</td></tr>",
                            "<tr><td>7349 Szászvár, Fő u. 2.</td><td>1</td></tr>",
                            "<tr><td>7349 Szászvár, Kiss u. 32.</td><td>1</td></tr>",
                            "<tr><td>7396 Magyarszék, Fő u. 2.</td><td>21</td></tr>",
                            "<tr><td>7396 Magyarszék, Kiss u. 32.</td><td>15</td></tr>",
                            "<tr><td>7396 Magyarszék, Nagy u.14.</td><td>7</td></tr>",
                            "<tr><td>7511 Ötvöskónyi, Kiss u. 32.</td><td>1</td></tr>",
                            "<tr><td>7511 Ötvöskónyi, Nagy u.14.</td><td>1</td></tr>",
                            "<tr><td>7900 Szigetvár, Fő u. 2.</td><td>23</td></tr>",
                            "<tr><td>7900 Szigetvár, Kiss u. 32.</td><td>13</td></tr>",
                            "<tr><td>7900 Szigetvár, Nagy u.14.</td><td>7</td></tr>",
                            "<tr><td>7960 Sellye, Fő u. 2.</td><td>27</td></tr>",
                            "<tr><td>7960 Sellye, Kiss u. 32.</td><td>11</td></tr>",
                            "<tr><td>7960 Sellye, Nagy u.14.</td><td>5</td></tr>",
                            "<tr><td>8200 Veszprém, Fő u. 2.</td><td>22</td></tr>",
                            "<tr><td>8200 Veszprém, Kiss u. 32.</td><td>19</td></tr>",
                            "<tr><td>8200 Veszprém, Nagy u.14.</td><td>2</td></tr>",
                            "<tr><td>8220 Balatonalmádi, Fő u. 2.</td><td>1</td></tr>",
                            "<tr><td>8220 Balatonalmádi, Kiss u. 32.</td><td>1</td></tr>",
                            "<tr><td>8237 Tihany, Fő u. 2.</td><td>1</td></tr>",
                            "<tr><td>8237 Tihany, Kiss u. 32.</td><td>1</td></tr>",
                            "<tr><td>8237 Tihany, Nagy u.14.</td><td>1</td></tr>",
                            "<tr><td>8254 Kővágóörs, Fő u. 2.</td><td>4</td></tr>",
                            "<tr><td>8254 Kővágóörs, Kiss u. 32.</td><td>1</td></tr>",
                            "<tr><td>8283 Káptalantóti, Fő u. 2.</td><td>1</td></tr>",
                            "<tr><td>8283 Káptalantóti, Kiss u. 32.</td><td>3</td></tr>",
                            "<tr><td>8313 Balatongyörök, Fő u. 2.</td><td>21</td></tr>",
                            "<tr><td>8313 Balatongyörök, Kiss u. 32.</td><td>16</td></tr>",
                            "<tr><td>8313 Balatongyörök, Nagy u.14.</td><td>3</td></tr>",
                            "<tr><td>8315 Gyenesdiás, Fő u. 2.</td><td>1</td></tr>",
                            "<tr><td>8391 Sármellék, Fő u. 2.</td><td>3</td></tr>",
                            "<tr><td>8391 Sármellék, Kiss u. 32.</td><td>1</td></tr>",
                            "<tr><td>8630 Balatonboglár, Fő u. 2.</td><td>1</td></tr>",
                            "<tr><td>8638 Balatonlelle, Kiss u. 32.</td><td>1</td></tr>",
                            "<tr><td>8640 Fonyód, Fő u. 2.</td><td>1</td></tr>",
                            "<tr><td>8640 Fonyód, Kiss u. 32.</td><td>1</td></tr>",
                            "<tr><td>8800 Nagykanizsa, Fő u. 2.</td><td>1</td></tr>",
                            "<tr><td>8800 Nagykanizsa, Kiss u. 32.</td><td>1</td></tr>",
                            "<tr><td>9023 Győr, Fő u. 2.</td><td>61</td></tr>",
                            "<tr><td>9023 Győr, Kiss u. 32.</td><td>41</td></tr>",
                            "<tr><td>9023 Győr, Nagy u.14.</td><td>8</td></tr>",
                            "<tr><td>9071 Görbeháza, Fő u. 2.</td><td>2</td></tr>",
                            "<tr><td>9155 Lébény, Fő u. 2.</td><td>15</td></tr>",
                            "<tr><td>9155 Lébény, Kiss u. 32.</td><td>17</td></tr>",
                            "<tr><td>9155 Lébény, Nagy u.14.</td><td>7</td></tr>",
                            "<tr><td>9181 Kimle, Fő u. 2.</td><td>26</td></tr>",
                            "<tr><td>9181 Kimle, Kiss u. 32.</td><td>16</td></tr>",
                            "<tr><td>9181 Kimle, Nagy u.14.</td><td>5</td></tr>",
                            "<tr><td>9653 Répcelak, Fő u. 2.</td><td>21</td></tr>",
                            "<tr><td>9653 Répcelak, Kiss u. 32.</td><td>16</td></tr>",
                            "<tr><td>9653 Répcelak, Nagy u.14.</td><td>4</td></tr>",
                            "<tr><td>9970 Szentgotthárd, Kiss u. 32.</td><td>1</td></tr>",
                            "<tr><td>9970 Szentgotthárd, Nagy u.14.</td><td>1</td></tr>",
                            "</table>"
                        ]
                    }
                }
            ],
            "execution_count": 27
        },
        {
            "cell_type": "code",
            "source": [
                "SELECT\r\n",
                "    COUNT(DISTINCT SZALL_CIM) AS 'Egyedi szall_cim'\r\n",
                "FROM Rendeles\r\n",
                "WHERE SZALL_CIM IS NOT NULL"
            ],
            "metadata": {
                "azdata_cell_guid": "67340158-a001-4fec-8233-7b88034e640e",
                "language": "sql"
            },
            "outputs": [
                {
                    "output_type": "display_data",
                    "data": {
                        "text/html": "(1 row affected)"
                    },
                    "metadata": {}
                },
                {
                    "output_type": "display_data",
                    "data": {
                        "text/html": "Total execution time: 00:00:00.219"
                    },
                    "metadata": {}
                },
                {
                    "output_type": "execute_result",
                    "metadata": {},
                    "execution_count": 28,
                    "data": {
                        "application/vnd.dataresource+json": {
                            "schema": {
                                "fields": [
                                    {
                                        "name": "Egyedi szall_cim"
                                    }
                                ]
                            },
                            "data": [
                                {
                                    "Egyedi szall_cim": "299"
                                }
                            ]
                        },
                        "text/html": [
                            "<table>",
                            "<tr><th>Egyedi szall_cim</th></tr>",
                            "<tr><td>299</td></tr>",
                            "</table>"
                        ]
                    }
                }
            ],
            "execution_count": 28
        },
        {
            "cell_type": "code",
            "source": [
                "SELECT \r\n",
                "    MIN(LEN([LOGIN])) AS 'legrövidebb',\r\n",
                "    MAX(LEN([LOGIN])) AS 'leghosszabb',\r\n",
                "    AVG(LEN([LOGIN])) AS 'átlaghossz'\r\n",
                "FROM Rendeles;"
            ],
            "metadata": {
                "azdata_cell_guid": "aeeabfbf-afe0-4be5-8911-136b00cace81",
                "language": "sql"
            },
            "outputs": [
                {
                    "output_type": "display_data",
                    "data": {
                        "text/html": "(1 row affected)"
                    },
                    "metadata": {}
                },
                {
                    "output_type": "display_data",
                    "data": {
                        "text/html": "Total execution time: 00:00:01.017"
                    },
                    "metadata": {}
                },
                {
                    "output_type": "execute_result",
                    "metadata": {},
                    "execution_count": 29,
                    "data": {
                        "application/vnd.dataresource+json": {
                            "schema": {
                                "fields": [
                                    {
                                        "name": "legrövidebb"
                                    },
                                    {
                                        "name": "leghosszabb"
                                    },
                                    {
                                        "name": "átlaghossz"
                                    }
                                ]
                            },
                            "data": [
                                {
                                    "legrövidebb": "3",
                                    "leghosszabb": "11",
                                    "átlaghossz": "6"
                                }
                            ]
                        },
                        "text/html": [
                            "<table>",
                            "<tr><th>legrövidebb</th><th>leghosszabb</th><th>átlaghossz</th></tr>",
                            "<tr><td>3</td><td>11</td><td>6</td></tr>",
                            "</table>"
                        ]
                    }
                }
            ],
            "execution_count": 29
        }
    ]
}